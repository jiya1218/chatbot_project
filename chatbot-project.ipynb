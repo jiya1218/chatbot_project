{
 "cells": [
  {
   "cell_type": "code",
   "execution_count": 2,
   "id": "a8ee344b-ff2f-438e-ac2e-e1744b066bfd",
   "metadata": {},
   "outputs": [
    {
     "name": "stdout",
     "output_type": "stream",
     "text": [
      "Requirement already satisfied: openai in c:\\users\\jiyap\\anaconda3\\lib\\site-packages (1.60.2)\n",
      "Requirement already satisfied: python-dotenv in c:\\users\\jiyap\\anaconda3\\lib\\site-packages (0.21.0)\n",
      "Requirement already satisfied: anyio<5,>=3.5.0 in c:\\users\\jiyap\\anaconda3\\lib\\site-packages (from openai) (4.2.0)\n",
      "Requirement already satisfied: distro<2,>=1.7.0 in c:\\users\\jiyap\\anaconda3\\lib\\site-packages (from openai) (1.9.0)\n",
      "Requirement already satisfied: httpx<1,>=0.23.0 in c:\\users\\jiyap\\anaconda3\\lib\\site-packages (from openai) (0.27.0)\n",
      "Requirement already satisfied: jiter<1,>=0.4.0 in c:\\users\\jiyap\\anaconda3\\lib\\site-packages (from openai) (0.8.2)\n",
      "Requirement already satisfied: pydantic<3,>=1.9.0 in c:\\users\\jiyap\\anaconda3\\lib\\site-packages (from openai) (2.8.2)\n",
      "Requirement already satisfied: sniffio in c:\\users\\jiyap\\anaconda3\\lib\\site-packages (from openai) (1.3.0)\n",
      "Requirement already satisfied: tqdm>4 in c:\\users\\jiyap\\anaconda3\\lib\\site-packages (from openai) (4.66.5)\n",
      "Requirement already satisfied: typing-extensions<5,>=4.11 in c:\\users\\jiyap\\anaconda3\\lib\\site-packages (from openai) (4.11.0)\n",
      "Requirement already satisfied: idna>=2.8 in c:\\users\\jiyap\\anaconda3\\lib\\site-packages (from anyio<5,>=3.5.0->openai) (3.7)\n",
      "Requirement already satisfied: certifi in c:\\users\\jiyap\\anaconda3\\lib\\site-packages (from httpx<1,>=0.23.0->openai) (2024.12.14)\n",
      "Requirement already satisfied: httpcore==1.* in c:\\users\\jiyap\\anaconda3\\lib\\site-packages (from httpx<1,>=0.23.0->openai) (1.0.2)\n",
      "Requirement already satisfied: h11<0.15,>=0.13 in c:\\users\\jiyap\\anaconda3\\lib\\site-packages (from httpcore==1.*->httpx<1,>=0.23.0->openai) (0.14.0)\n",
      "Requirement already satisfied: annotated-types>=0.4.0 in c:\\users\\jiyap\\anaconda3\\lib\\site-packages (from pydantic<3,>=1.9.0->openai) (0.6.0)\n",
      "Requirement already satisfied: pydantic-core==2.20.1 in c:\\users\\jiyap\\anaconda3\\lib\\site-packages (from pydantic<3,>=1.9.0->openai) (2.20.1)\n",
      "Requirement already satisfied: colorama in c:\\users\\jiyap\\anaconda3\\lib\\site-packages (from tqdm>4->openai) (0.4.6)\n"
     ]
    }
   ],
   "source": [
    "!pip install openai python-dotenv"
   ]
  },
  {
   "cell_type": "code",
   "execution_count": 4,
   "id": "b6e84543-174c-46e9-9003-4bd8f515899f",
   "metadata": {},
   "outputs": [],
   "source": [
    "#cell 2\n",
    "import openai\n",
    "import os\n",
    "from dotenv import load_dotenv\n",
    "from datetime import datetime\n",
    "import time  # Add this new import\n",
    "\n",
    "# Load environment variables\n",
    "load_dotenv()\n",
    "# Configure OpenAI API key\n",
    "openai.api_key = os.getenv('OPENAI_API_KEY')"
   ]
  },
  {
   "cell_type": "code",
   "execution_count": 6,
   "id": "48a8e8ce-515f-4217-9f1e-4dd3ee778090",
   "metadata": {},
   "outputs": [],
   "source": [
    "#cell 3\n",
    "class Chatbot:\n",
    "    def __init__(self):\n",
    "        self.conversation_history = []\n",
    "        self.max_history = 15  # Increased history limit\n",
    "        # Add personality\n",
    "        self.personality = \"\"\"You are a friendly and knowledgeable AI assistant. You have a warm personality \n",
    "        and like to engage in natural conversation. You're helpful and occasionally use appropriate emojis.\"\"\"\n",
    "        \n",
    "        # Initialize with personality\n",
    "        self.conversation_history.append({\n",
    "            \"role\": \"system\",\n",
    "            \"content\": self.personality\n",
    "        })\n",
    "        \n",
    "    def get_response(self, user_input):\n",
    "        # Trim history if too long\n",
    "        if len(self.conversation_history) > self.max_history * 2:\n",
    "            # Keep system message and trim others\n",
    "            system_message = self.conversation_history[0]\n",
    "            self.conversation_history = [system_message] + self.conversation_history[-self.max_history:]\n",
    "            \n",
    "        # Add user input to history\n",
    "        self.conversation_history.append({\"role\": \"user\", \"content\": user_input})\n",
    "        \n",
    "        try:\n",
    "            # Get response from GPT with enhanced parameters\n",
    "            response = openai.ChatCompletion.create(\n",
    "                model=\"gpt-3.5-turbo\",\n",
    "                messages=self.conversation_history,\n",
    "                max_tokens=200,\n",
    "                temperature=0.8,  # More creative responses\n",
    "                presence_penalty=0.6,  # More diverse responses\n",
    "                timeout=30\n",
    "            )\n",
    "            \n",
    "            bot_response = response.choices[0].message['content']\n",
    "            self.conversation_history.append({\"role\": \"assistant\", \"content\": bot_response})\n",
    "            \n",
    "            return bot_response\n",
    "            \n",
    "        except openai.error.RateLimitError:\n",
    "            return \"I need a quick moment to process... Could you please try again in a few seconds? 😅\"\n",
    "        except openai.error.AuthenticationError:\n",
    "            return \"I'm having trouble with my connection. Please check my API key configuration.\"\n",
    "        except openai.error.APIError:\n",
    "            return \"I'm experiencing some technical difficulties. Let's try again in a moment! 🔧\"\n",
    "        except Exception as e:\n",
    "            return f\"Oops! Something unexpected happened: {str(e)} 😳\"\n",
    "    \n",
    "    def clear_history(self):\n",
    "        # Preserve personality but clear conversation\n",
    "        self.conversation_history = [self.conversation_history[0]]"
   ]
  },
  {
   "cell_type": "code",
   "execution_count": 10,
   "id": "9cb15b82-ed1b-4740-b276-ac1f33c68361",
   "metadata": {},
   "outputs": [],
   "source": [
    "#cell 4\n",
    "def start_chat():\n",
    "    chatbot = Chatbot()\n",
    "    print(\"\\n=== AI Chatbot Interface ===\")\n",
    "    print(\"Commands:\")\n",
    "    print(\"- Type 'quit' to exit\")\n",
    "    print(\"- Type 'clear' to clear history\")\n",
    "    print(\"- Type 'help' for commands\")\n",
    "    \n",
    "    while True:\n",
    "        try:\n",
    "            user_input = input(\"\\nYou: \").strip()\n",
    "            \n",
    "            if user_input.lower() == 'quit':\n",
    "                print(\"\\nBot: Goodbye! Have a great day! 👋\")\n",
    "                break\n",
    "            elif user_input.lower() == 'clear':\n",
    "                chatbot.clear_history()\n",
    "                print(\"\\nBot: Conversation history cleared! 🌟\")\n",
    "                continue\n",
    "            elif user_input.lower() == 'help':\n",
    "                print(\"\\nAvailable commands:\")\n",
    "                print(\"- quit: Exit the chat\")\n",
    "                print(\"- clear: Clear conversation history\")\n",
    "                print(\"- help: Show this help message\")\n",
    "                continue\n",
    "            \n",
    "            if user_input:\n",
    "                print(\"\\nBot:\", end=\" \")\n",
    "                # Add typing effect\n",
    "                response = chatbot.get_response(user_input)\n",
    "                for char in response:\n",
    "                    print(char, end=\"\", flush=True)\n",
    "                    time.sleep(0.01)  # Adjust typing speed\n",
    "                print()\n",
    "                \n",
    "        except KeyboardInterrupt:\n",
    "            print(\"\\nBot: Chat terminated by user. Goodbye! 👋\")\n",
    "            break\n",
    "        except Exception as e:\n",
    "            print(f\"\\nAn error occurred: {str(e)}\")"
   ]
  },
  {
   "cell_type": "code",
   "execution_count": 12,
   "id": "69e4c8b6-3ae0-4271-86fe-c6042e89cc5f",
   "metadata": {},
   "outputs": [
    {
     "name": "stdout",
     "output_type": "stream",
     "text": [
      "\n",
      "=== AI Chatbot Interface ===\n",
      "Commands:\n",
      "- Type 'quit' to exit\n",
      "- Type 'clear' to clear history\n",
      "- Type 'help' for commands\n"
     ]
    },
    {
     "name": "stdin",
     "output_type": "stream",
     "text": [
      "\n",
      "You:  help\n"
     ]
    },
    {
     "name": "stdout",
     "output_type": "stream",
     "text": [
      "\n",
      "Available commands:\n",
      "- quit: Exit the chat\n",
      "- clear: Clear conversation history\n",
      "- help: Show this help message\n"
     ]
    },
    {
     "name": "stdin",
     "output_type": "stream",
     "text": [
      "\n",
      "You:  hi\n"
     ]
    },
    {
     "name": "stdout",
     "output_type": "stream",
     "text": [
      "\n",
      "Bot: \n",
      "An error occurred: module 'openai' has no attribute 'error'\n"
     ]
    },
    {
     "name": "stdin",
     "output_type": "stream",
     "text": [
      "\n",
      "You:  ok\n"
     ]
    },
    {
     "name": "stdout",
     "output_type": "stream",
     "text": [
      "\n",
      "Bot: \n",
      "An error occurred: module 'openai' has no attribute 'error'\n"
     ]
    },
    {
     "name": "stdin",
     "output_type": "stream",
     "text": [
      "\n",
      "You:  clear\n"
     ]
    },
    {
     "name": "stdout",
     "output_type": "stream",
     "text": [
      "\n",
      "Bot: Conversation history cleared! 🌟\n"
     ]
    },
    {
     "name": "stdin",
     "output_type": "stream",
     "text": [
      "\n",
      "You:  quit\n"
     ]
    },
    {
     "name": "stdout",
     "output_type": "stream",
     "text": [
      "\n",
      "Bot: Goodbye! Have a great day! 👋\n"
     ]
    }
   ],
   "source": [
    "\n",
    "# Start the chat\n",
    "if __name__ == \"__main__\":\n",
    "    start_chat()"
   ]
  },
  {
   "cell_type": "code",
   "execution_count": null,
   "id": "8e2c8d09-c6a1-4a17-9255-0c9710788a5e",
   "metadata": {},
   "outputs": [],
   "source": []
  }
 ],
 "metadata": {
  "kernelspec": {
   "display_name": "Python [conda env:base] *",
   "language": "python",
   "name": "conda-base-py"
  },
  "language_info": {
   "codemirror_mode": {
    "name": "ipython",
    "version": 3
   },
   "file_extension": ".py",
   "mimetype": "text/x-python",
   "name": "python",
   "nbconvert_exporter": "python",
   "pygments_lexer": "ipython3",
   "version": "3.12.7"
  }
 },
 "nbformat": 4,
 "nbformat_minor": 5
}
